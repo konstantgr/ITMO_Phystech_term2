{
 "cells": [
  {
   "cell_type": "code",
   "execution_count": 1,
   "metadata": {},
   "outputs": [],
   "source": [
    "import numpy as np\n",
    "import matplotlib.pyplot as plt\n",
    "import math as m\n",
    "from scipy.integrate import ode"
   ]
  },
  {
   "cell_type": "code",
   "execution_count": 47,
   "metadata": {},
   "outputs": [
    {
     "name": "stdout",
     "output_type": "stream",
     "text": [
      "99\n"
     ]
    },
    {
     "data": {
      "image/png": "[encoded data removed]",
      "text/plain": [
       "<Figure size 432x288 with 1 Axes>"
      ]
     },
     "metadata": {
      "needs_background": "light"
     },
     "output_type": "display_data"
    },
    {
     "name": "stdout",
     "output_type": "stream",
     "text": [
      "[-1.48341559e+08] [73618154.19309863]\n",
      "100000.0\n"
     ]
    }
   ],
   "source": [
    "import numpy as np\n",
    "import matplotlib.pyplot as plt\n",
    "import math as m\n",
    "from scipy.integrate import ode\n",
    "\n",
    "\n",
    "h=200000       #Orbit height\n",
    "Re=6371000     #Earth radius\n",
    "Rm=1738000     #Earth radius   \n",
    "Rem=3844e5     #Moon orbit radius\n",
    "G=6.67e-11\n",
    "Me=5.97e24     #Earth mass\n",
    "Mm=7.36e22     #Moon mass\n",
    "\n",
    "T=0#544450#Flight time\n",
    "Vm=m.sqrt(G*Me/(Rem))\n",
    "\n",
    "V0=m.sqrt(G*Me/(Re+h))*1.41\n",
    "\n",
    "def fout(t, y):# обработчик шага \n",
    "    ts.append(t)\n",
    "    ys.append(list(y.copy()))\n",
    "    y1, y2, y3, y4 = y\n",
    "\n",
    "    if (m.sqrt((Rem-y1)**2+y3**2) < (Rm+3850)):\n",
    "        print(\"TRUE\")\n",
    "        return -1\n",
    "\n",
    "def distToMoon(x,y,tm):\n",
    "    xm, ym=Moonpos(tm)\n",
    "    return m.sqrt((y-ym)**2+(x-xm)**2)\n",
    " \n",
    "def Moonpos(tm):\n",
    "    omega=Vm/Rem\n",
    "    xm=Rem*m.cos(omega*(-T+tm))\n",
    "    ym=Rem*m.sin(omega*(-T+tm))\n",
    "    return xm,ym\n",
    "    \n",
    "        \n",
    "# функция правых частей системы ОДУ\n",
    "def f(t, y):\n",
    "    ''' Функция правых частей системы ОДУ \n",
    "        y1->X; y3->Y; y2->Vx; y4->Vy '''\n",
    "    \n",
    "    y1, y2, y3, y4 = y \n",
    "    xm, ym=Moonpos(t)\n",
    "    \n",
    "    ax = -y1 * G*Me / ((y1**2+y3**2)**1.5) + (xm - y1) * G*Mm / (distToMoon(y1, y3, t)**3)\n",
    "    ay = -y3 * G*Me / ((y1**2+y3**2)**1.5) - (y3 - ym) * G*Mm / (distToMoon(y1, y3, t)**3)\n",
    "    \n",
    "    return [y2, ax, y4, ay] \n",
    "     \n",
    "tmax=100000         # максимально допустимый момент времени\n",
    "\n",
    "y0,t0=[-Re - h, 0, 0, V0*1.001], 0 # начальные условия \n",
    "ODE=ode(f)\n",
    "ODE.set_integrator('dopri5', max_step=1400)\n",
    "ODE.set_solout(fout)\n",
    "\n",
    "\n",
    "fig, ax = plt.subplots()\n",
    "\n",
    "ts, ys = [ ],[ ]\n",
    "ODE.set_initial_value(y0, t0) \n",
    "ODE.integrate(tmax) \n",
    "     # решение ОДУ\n",
    "Y=np.array(ys)\n",
    "\n",
    "xc,yc=[],[]\n",
    "for i in range(0, 630):\n",
    "    xc.append(Re*m.cos(i/100))\n",
    "    yc.append(Re*m.sin(i/100))\n",
    "\n",
    "\n",
    "print(len(Y))\n",
    "plt.plot(Y[:,0],Y[:,2],linewidth=1)#,label='k=%.1f'% k)\n",
    "plt.axis('equal')\n",
    "plt.plot(xc,yc,linewidth=2)\n",
    "\n",
    "xc,yc=[],[]\n",
    "for i in range(0, 630):\n",
    "    xc.append(Re + Rem + Rm*m.cos(i/100))\n",
    "    yc.append(Rm*m.sin(i/100))\n",
    "\n",
    "plt.plot(xc,yc,linewidth=2)\n",
    "\n",
    "xc,yc=[],[]\n",
    "for t in range(1, tmax):\n",
    "    x_temp, y_temp = Moonpos(t)\n",
    "    xc.append(x_temp)\n",
    "    yc.append(y_temp)\n",
    "plt.plot(xc[len(xc) - 1000000:],yc[len(xc) - 1000000:],linewidth=2)    \n",
    "\n",
    "plt.title(\"Travel to the Moon \\n \")\n",
    "plt.grid(True)\n",
    "\n",
    "  \n",
    "plt.show()\n",
    "print(Y[-1:,0]-Rem,Y[-1:,2])\n",
    "print(ts[-1]);"
   ]
  },
  {
   "cell_type": "code",
   "execution_count": null,
   "metadata": {},
   "outputs": [],
   "source": []
  }
 ],
 "metadata": {
  "kernelspec": {
   "display_name": "Python 3",
   "language": "python",
   "name": "python3"
  },
  "language_info": {
   "codemirror_mode": {
    "name": "ipython",
    "version": 3
   },
   "file_extension": ".py",
   "mimetype": "text/x-python",
   "name": "python",
   "nbconvert_exporter": "python",
   "pygments_lexer": "ipython3",
   "version": "3.8.1"
  }
 },
 "nbformat": 4,
 "nbformat_minor": 4
}
